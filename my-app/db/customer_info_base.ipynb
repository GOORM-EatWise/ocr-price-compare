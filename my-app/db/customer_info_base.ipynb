{
 "cells": [
  {
   "cell_type": "code",
   "execution_count": 1,
   "metadata": {},
   "outputs": [
    {
     "name": "stdout",
     "output_type": "stream",
     "text": [
      "🎉 Firebase 프로젝트가 성공적으로 초기화되고 Firestore에 연결되었습니다!\n"
     ]
    }
   ],
   "source": [
    "# Firebase Admin SDK 초기화 및 Import\n",
    "\n",
    "import firebase_admin\n",
    "from firebase_admin import credentials\n",
    "from firebase_admin import firestore # Firestore를 사용하기 위해 임포트합니다\n",
    "\n",
    "\n",
    "# 다운로드한 서비스 계정 키 파일 경로를 지정합니다.\n",
    "# 이 파일은 외부로 유출되지 않도록 조심하세요!\n",
    "cred = credentials.Certificate(\"eatwise-4dfe3-firebase-adminsdk-fbsvc-4b7495f398.json\")\n",
    "\n",
    "# Firebase Admin SDK를 초기화합니다.\n",
    "firebase_admin.initialize_app(cred)\n",
    "\n",
    "# Firestore 데이터베이스 클라이언트를 얻습니다.\n",
    "db = firestore.client()\n",
    "\n",
    "print(\"🎉 Firebase 프로젝트가 성공적으로 초기화되고 Firestore에 연결되었습니다!\")"
   ]
  },
  {
   "cell_type": "code",
   "execution_count": 2,
   "metadata": {},
   "outputs": [],
   "source": [
    "#고객 정보를 입력할 CustomerInfo 클래스 정의 \n",
    "\n",
    "class CustomerInfo:\n",
    "    def __init__(self, user_name, user_sex, user_height, user_weight, user_age):\n",
    "        self.user_name = user_name\n",
    "        self.user_sex = user_sex\n",
    "        self.user_height = user_height\n",
    "        self.user_weight = user_weight\n",
    "        self.user_age = user_age\n",
    "        \n",
    "    def to_dict(self):\n",
    "        return {\n",
    "            \"user_name\": self.user_name,\n",
    "            \"user_sex\": self.user_sex,\n",
    "            \"user_height\": self.user_height,\n",
    "            \"user_weight\": self.user_weight,\n",
    "            \"user_age\": self.user_age\n",
    "        }\n",
    "    \n",
    "    def __repr__(self): # 디버깅 시 보낼 데이터 \n",
    "        return f\"CustomerInfo(user_name={self.user_name}, user_sex={self.user_sex}, user_height={self.user_height}, user_weight={self.user_weight}, user_age={self.user_age})\""
   ]
  },
  {
   "cell_type": "code",
   "execution_count": 3,
   "metadata": {},
   "outputs": [
    {
     "data": {
      "text/plain": [
       "update_time {\n",
       "  seconds: 1751001501\n",
       "  nanos: 516518000\n",
       "}"
      ]
     },
     "execution_count": 3,
     "metadata": {},
     "output_type": "execute_result"
    }
   ],
   "source": [
    "# 고객 정보 입력\n",
    "\n",
    "customer_info_ref = db.collection(\"customer_info\") # customer_info 컬렉션 (= 테이블)\n",
    "\n",
    "customer_doc = []\n",
    "\n",
    "# 입력받는 데이터 \n",
    "user_id = \"john2123\" # Firebase 문서 ID, 문서 ID는 Primary Key 역할을 하며, 고유 데이터 이어야 한다.\n",
    "user_name = \"John Doe\"\n",
    "user_sex = \"Male\"\n",
    "user_height = 180\n",
    "user_weight = 70\n",
    "user_age = 20\n",
    "\n",
    "customer_doc.append(CustomerInfo(user_name, user_sex, user_height, user_weight, user_age))\n",
    "\n",
    "customer_info_ref.document(user_id).set(customer_doc[0].to_dict())"
   ]
  },
  {
   "cell_type": "code",
   "execution_count": 6,
   "metadata": {},
   "outputs": [
    {
     "name": "stdout",
     "output_type": "stream",
     "text": [
      "{'user_weight': 70, 'user_height': 180, 'user_age': 20, 'user_sex': 'Male', 'user_name': 'John Doe'}\n"
     ]
    }
   ],
   "source": [
    "# 입력한 데이터 불러오기 문서 ID 로 조회 후 가져오기\n",
    "\n",
    "data = db.collection(\"customer_info\").document(\"john2123\").get()\n",
    "\n",
    "print(data.to_dict())"
   ]
  },
  {
   "cell_type": "code",
   "execution_count": 7,
   "metadata": {},
   "outputs": [
    {
     "name": "stdout",
     "output_type": "stream",
     "text": [
      "{'user_weight': 70, 'user_height': 180, 'user_age': 20, 'user_sex': 'Male', 'user_name': 'John Doe'}\n"
     ]
    }
   ],
   "source": [
    "# 입력한 데이터 전체 불러오기\n",
    "\n",
    "data = db.collection(\"customer_info\").get()\n",
    "\n",
    "for doc in data:\n",
    "    print(doc.to_dict())"
   ]
  }
 ],
 "metadata": {
  "kernelspec": {
   "display_name": "eatwise",
   "language": "python",
   "name": "python3"
  },
  "language_info": {
   "codemirror_mode": {
    "name": "ipython",
    "version": 3
   },
   "file_extension": ".py",
   "mimetype": "text/x-python",
   "name": "python",
   "nbconvert_exporter": "python",
   "pygments_lexer": "ipython3",
   "version": "3.10.18"
  }
 },
 "nbformat": 4,
 "nbformat_minor": 2
}
