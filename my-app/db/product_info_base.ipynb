{
 "cells": [
  {
   "cell_type": "code",
   "execution_count": 6,
   "metadata": {},
   "outputs": [
    {
     "name": "stdout",
     "output_type": "stream",
     "text": [
      "Firestore 데이터베이스 연결 성공\n"
     ]
    }
   ],
   "source": [
    "# Firebase Admin SDK 초기화 및 Import\n",
    "\n",
    "import firebase_admin\n",
    "from firebase_admin import credentials\n",
    "from firebase_admin import firestore # Firestore를 사용하기 위해 임포트합니다\n",
    "\n",
    "\n",
    "# 서비스 계정 키 입력\n",
    "cred = credentials.Certificate(\"eatwise-4dfe3-firebase-adminsdk-fbsvc-4b7495f398.json\")\n",
    "\n",
    "# Firebase Admin SDK를 초기화\n",
    "firebase_admin.initialize_app(cred)\n",
    "\n",
    "# Firestore 데이터베이스 클라이언트 얻기\n",
    "db = firestore.client()\n",
    "\n",
    "\n",
    "try:\n",
    "    # 간단한 쿼리를 실행하여 연결 상태 확인\n",
    "    test_query = db.collection(\"customer_info\").limit(1).get()\n",
    "    print(\"Firestore 데이터베이스 연결 성공\")\n",
    "    \n",
    "except Exception as e:\n",
    "    print(f\"데이터베이스 연결 오류: {e}\")"
   ]
  },
  {
   "cell_type": "code",
   "execution_count": 8,
   "metadata": {},
   "outputs": [],
   "source": [
    "#고객 정보를 입력할 ProductInfo 클래스 정의 \n",
    "\n",
    "class ProductInfo:\n",
    "    def __init__(self, prod_info: dict):\n",
    "        self.prod_name = prod_info['prod_name']\n",
    "        self.prod_price = prod_info['price']\n",
    "        self.per_serving = prod_info['per_serving']\n",
    "        self.kcal = prod_info['kcal']\n",
    "        self.carb = prod_info['carb']\n",
    "        self.sugar = prod_info['sugar']\n",
    "        self.protein = prod_info['protein']\n",
    "        self.fat = prod_info['fat']\n",
    "        \n",
    "    def to_dict(self):\n",
    "        return {\n",
    "            \"prod_name\": self.prod_name,\n",
    "            \"price\": self.prod_price,\n",
    "            \"per_serving\": self.per_serving,\n",
    "            \"kcal\": self.kcal,\n",
    "            \"carb\": self.carb,\n",
    "            \"sugar\": self.sugar,\n",
    "            \"protein\": self.protein,\n",
    "            \"fat\": self.fat\n",
    "        }\n",
    "    \n",
    "    def __repr__(self): # 디버깅 시 보낼 데이터 \n",
    "        return f\"ProductInfo(prod_name={self.prod_name}, price={self.prod_price}, per_serving={self.per_serving}, kcal={self.kcal})\""
   ]
  },
  {
   "cell_type": "code",
   "execution_count": 9,
   "metadata": {},
   "outputs": [],
   "source": [
    "# 제품정보 입력\n",
    "\n",
    "import json\n",
    "\n",
    "with open(\"그릭 요거트_nutrition_data.json\", \"r\", encoding=\"utf-8\") as f:\n",
    "    resource_data = json.load(f)\n",
    "\n",
    "prod_info_ref = db.collection(\"product_info\") # customer_info 컬렉션 (= 테이블)\n",
    "\n",
    "\n",
    "\n",
    "for item in resource_data:\n",
    "    prod_info_ref.add(item)"
   ]
  },
  {
   "cell_type": "code",
   "execution_count": 11,
   "metadata": {},
   "outputs": [
    {
     "name": "stdout",
     "output_type": "stream",
     "text": [
      "{'prod_name': '스위트바이오 그릭 데이 그릭 요거트 라이트 800g', 'kcal': '100', 'spec_origin': '떠먹는 요구르트 / 포장형태: 컵 / [영양정보] 1회 제공량 100g당 열량: 100kcal / 탄수화물: 2.7g / 당류: 2.46g / 단백질: 6.75g / 지방: 6.97g / 포화지방: 4.3g / 트랜스지방: 0g / 콜레스트롤: 25mg / 나트륨: 30.5mg', 'item_num': 25, 'per_serving': '100g', 'carb': '2.7', 'price': '19000', 'protein': '6.75', 'sugar': '2.46', 'fat': '6.97'}\n",
      "{'prod_name': '요즘(YOZM) 플레인 그릭 요거트 500g', 'kcal': '105', 'spec_origin': '떠먹는 요구르트 / 포장형태: 컵 / [영양정보] 1회 제공량 100g당 열량: 105kcal / 탄수화물: 4g / 당류: 2.4g / 단백질: 6g / 지방: 7.2g / 포화지방: 3.2g / 트랜스지방: 0g / 콜레스트롤: 20mg / 나트륨: 35mg', 'item_num': 16, 'per_serving': '100g', 'carb': '4', 'price': '14160', 'protein': '6', 'sugar': '2.4', 'fat': '7.2'}\n",
      "{'prod_name': '스위트바이오 그릭 데이 그릭 요거트 라이트 450g', 'kcal': '100', 'spec_origin': '떠먹는 요구르트 / 포장형태: 컵 / [영양정보] 1회 제공량 100g당 열량: 100kcal / 탄수화물: 2.7g / 당류: 2.46g / 단백질: 6.75g / 지방: 6.97g / 포화지방: 4.3g / 트랜스지방: 0g / 콜레스트롤: 25mg / 나트륨: 30.5mg', 'item_num': 20, 'per_serving': '100g', 'carb': '2.7', 'price': '12500', 'protein': '6.75', 'sugar': '2.46', 'fat': '6.97'}\n",
      "{'prod_name': '일동후디스 그릭 요거트 달지않은 플레인 450g', 'kcal': '130', 'spec_origin': '떠먹는 요구르트 / 포장형태: 컵 / [영양정보] 1회 제공량 100g당 열량: 130kcal / 탄수화물: 9g / 당류: 9g / 단백질: 6g / 지방: 7.5g / 포화지방: 4.5g / 트랜스지방: 0.5g 미만 / 콜레스트롤: 31mg / 나트륨: 100mg / 칼슘: 200mg', 'item_num': 12, 'per_serving': '100g', 'carb': '9', 'price': '5120', 'protein': '6', 'sugar': '9', 'fat': '7.5'}\n",
      "{'prod_name': '일동후디스 후디스 그릭 요거트 달지않은 저지방 450g', 'kcal': '65', 'spec_origin': '떠먹는 요구르트 / 포장형태: 컵 / [영양정보] 1회 제공량 80g당 열량: 65kcal / 탄수화물: 7.6g / 당류: 7.6g / 단백질: 4.8g / 지방: 1.6g / 포화지방: 1g / 트랜스지방: 0g / 콜레스테롤: 8mg / 나트륨: 88mg / 칼슘: 160mg', 'item_num': 7, 'per_serving': '80g', 'carb': '7.6', 'price': '5120', 'protein': '4.8', 'sugar': '7.6', 'fat': '1.6'}\n",
      "{'prod_name': '매일유업 바이오 그릭 요거트 오리지널 플레인 80g', 'kcal': '115', 'spec_origin': '떠먹는 요구르트 / 포장형태: 컵 / [영양정보] 1회 제공량 80g당 열량: 115kcal / 탄수화물: 3g / 당류: 3g / 단백질: 5g / 지방: 9g / 포화지방: 6g / 트랜스지방: 0.5g미만 / 콜레스테롤: 30mg / 나트륨: 45mg / 칼슘: 110mg', 'item_num': 5, 'per_serving': '80g', 'carb': '3', 'price': '3290', 'protein': '5', 'sugar': '3', 'fat': '9'}\n",
      "{'prod_name': '매일유업 바이오 그릭 요거트 후르츠 베리믹스 80g', 'kcal': '135', 'spec_origin': '떠먹는 요구르트 / 포장형태: 컵 / [영양정보] 1회 제공량 80g당 열량: 135kcal / 탄수화물: 8g / 당류: 7g / 단백질: 5g / 지방: 9g / 포화지방: 6g / 트랜스지방: 0.5g미만 / 콜레스테롤: 30mg / 나트륨: 45mg / 칼슘: 90mg', 'item_num': 23, 'per_serving': '80g', 'carb': '8', 'price': '6490', 'protein': '5', 'sugar': '7', 'fat': '9'}\n",
      "{'prod_name': '스위트바이오 그릭 데이 그릭 요거트 시그니처 800g', 'kcal': '160', 'spec_origin': '떠먹는 요구르트 / 포장형태: 컵 / [영양정보] 1회 제공량 100g당 열량: 160kcal / 탄수화물: 4.8g / 당류: 1.86g / 단백질: 11.42g / 지방: 10.69g / 포화지방: 6g / 트랜스지방: 0g / 콜레스트롤: 35mg / 나트륨: 29.87mg', 'item_num': 13, 'per_serving': '100g', 'carb': '4.8', 'price': '20900', 'protein': '11.42', 'sugar': '1.86', 'fat': '10.69'}\n",
      "{'prod_name': '일동후디스 후디스 그릭 요거트 코코포도 80g', 'kcal': '115', 'spec_origin': '떠먹는 요구르트 / 포장형태: 컵 / [영양정보] 1회 제공량 80g당 열량: 115kcal / 탄수화물: 16g / 당류: 15g / 단백질: 5g / 지방: 3.6g / 포화지방: 3g / 트랜스지방: 0g / 콜레스트롤: 12mg / 나트륨: 60mg / 칼슘 130mg', 'item_num': 19, 'per_serving': '80g', 'carb': '16', 'price': '6490', 'protein': '5', 'sugar': '15', 'fat': '3.6'}\n",
      "{'prod_name': '스위트바이오 그릭 데이 그릭 요거트 라이트 100g', 'kcal': '100', 'spec_origin': '떠먹는 요구르트 / 포장형태: 컵 / [영양정보] 1회 제공량 100g당 열량: 100kcal / 탄수화물: 2.7g / 당류: 2.46g / 단백질: 6.75g / 지방: 6.97g / 포화지방: 4.3g / 트랜스지방: 0g / 콜레스트롤: 25mg / 나트륨: 30.5mg', 'item_num': 18, 'per_serving': '100g', 'carb': '2.7', 'price': '8300', 'protein': '6.75', 'sugar': '2.46', 'fat': '6.97'}\n",
      "{'prod_name': '요즘(YOZM) 플레인 그릭 요거트 100g', 'kcal': '105', 'spec_origin': '떠먹는 요구르트 / 포장형태: 컵 / [영양정보] 1회 제공량 100g당 열량: 105kcal / 탄수화물: 4g / 당류: 2.4g / 단백질: 6g / 지방: 7.2g / 포화지방: 3.2g / 트랜스지방: 0g / 콜레스트롤: 20mg / 나트륨: 35mg', 'item_num': 4, 'per_serving': '100g', 'carb': '4', 'price': '3500', 'protein': '6', 'sugar': '2.4', 'fat': '7.2'}\n",
      "{'prod_name': '코우카키스 무지방 그릭 요거트 0% 500g', 'kcal': '47', 'spec_origin': '떠먹는 요구르트 / 포장형태: 컵 / [영양정보] 1회 제공량 100g당 열량: 47kcal / 탄수화물: 4g / 당류: 4g / 단백질: 7.9g / 지방: 0g / 포화지방: 0g / 트랜스지방: 0g / 콜레스트롤: 0mg / 나트륨: 52mg', 'item_num': 22, 'per_serving': '100g', 'carb': '4', 'price': '15010', 'protein': '7.9', 'sugar': '4', 'fat': '0'}\n",
      "{'prod_name': '요즘(YOZM) 플레인 그릭 요거트 800g', 'kcal': '105', 'spec_origin': '떠먹는 요구르트 / 포장형태: 컵 / [영양정보] 1회 제공량 100g당 열량: 105kcal / 탄수화물: 4g / 당류: 2.4g / 단백질: 6g / 지방: 7.2g / 포화지방: 3.2g / 트랜스지방: 0g / 콜레스트롤: 20mg / 나트륨: 35mg', 'item_num': 21, 'per_serving': '100g', 'carb': '4', 'price': '22660', 'protein': '6', 'sugar': '2.4', 'fat': '7.2'}\n",
      "{'prod_name': '바스켓플랜 푸드앤플랜 리얼 그릭 요거트 350g', 'kcal': '146.7', 'spec_origin': '떠먹는 요구르트 / 포장형태: 컵 / [영양정보] 1회 제공량 100g당 열량: 146.7kcal / 탄수화물: 5.6g / 당류: 2.2g / 단백질: 10g / 지방: 9.4g / 포화지방: 5.6g / 트랜스지방: 0.3g / 콜레스트롤: 34.5mg / 나트륨: 19mg / 칼슘: 65.8mg', 'item_num': 17, 'per_serving': '100g', 'carb': '5.6', 'price': '9690', 'protein': '10', 'sugar': '2.2', 'fat': '9.4'}\n",
      "{'prod_name': '롯데웰푸드 그릭 요거트 블루베리 아이스크림 85ml', 'kcal': '185', 'spec_origin': '아이스크림 / 85ml / 알레르기성분: 대두, 우유 / 표시기준분량: 85ml / 열량: 185kcal / 탄수화물: 19g / 당류: 18g / 단백질: 2g / 지방: 11g / 포화지방: 6g / 트랜스지방: 0.5g미만 / 콜레스테롤: 10mg / 나트륨: 50mg', 'item_num': 8, 'per_serving': '85ml', 'carb': '19', 'price': '4400', 'protein': '2', 'sugar': '18', 'fat': '11'}\n",
      "{'prod_name': '스위트바이오 그릭 데이 그릭 요거트 시그니처 100g', 'kcal': '160', 'spec_origin': '떠먹는 요구르트 / 포장형태: 컵 / [영양정보] 1회 제공량 100g당 열량: 160kcal / 탄수화물: 4.8g / 당류: 1.86g / 단백질: 11.42g / 지방: 10.69g / 포화지방: 6g / 트랜스지방: 0g / 콜레스트롤: 35mg / 나트륨: 29.87mg', 'item_num': 2, 'per_serving': '100g', 'carb': '4.8', 'price': '5030', 'protein': '11.42', 'sugar': '1.86', 'fat': '10.69'}\n",
      "{'prod_name': '스위트바이오 그릭 데이 그릭 요거트 시그니처 450g', 'kcal': '160', 'spec_origin': '떠먹는 요구르트 / 포장형태: 컵 / [영양정보] 1회 제공량 100g당 열량: 160kcal / 탄수화물: 4.8g / 당류: 1.86g / 단백질: 11.42g / 지방: 10.69g / 포화지방: 6g / 트랜스지방: 0g / 콜레스트롤: 35mg / 나트륨: 29.87mg', 'item_num': 10, 'per_serving': '100g', 'carb': '4.8', 'price': '14000', 'protein': '11.42', 'sugar': '1.86', 'fat': '10.69'}\n",
      "{'prod_name': '일동후디스 후디스 그릭 요거트 플레인 450g', 'kcal': '125', 'spec_origin': '떠먹는 요구르트 / 포장형태: 컵 / [영양정보] 1회 제공량 80g당 열량: 125kcal / 탄수화물: 12.5g / 당류: 12.5g / 단백질: 4.8g / 지방: 6.2g / 포화지방: 3.9g / 트랜스지방: 0g / 콜레스테롤: 25mg / 나트륨: 90mg / 칼슘: 160mg', 'item_num': 6, 'per_serving': '80g', 'carb': '12.5', 'price': '5120', 'protein': '4.8', 'sugar': '12.5', 'fat': '6.2'}\n",
      "{'prod_name': '코스트코 커클랜드 무지방 그릭 요거트 907g', 'kcal': '135', 'spec_origin': '떠먹는 요구르트 / 포장형태: 컵 / [영양정보] 1회 제공량 227g당 열량: 135kcal / 탄수화물: 10g / 당류: 7g / 단백질: 24g / 지방: 0g / 포화지방: 0g / 트랜스지방: 0g / 콜레스테롤: 10mg / 나트륨: 95mg', 'item_num': 1, 'per_serving': '227g', 'carb': '10', 'price': '9170', 'protein': '24', 'sugar': '7', 'fat': '0'}\n",
      "{'prod_name': '룩트 아이슬란딕 요거트 마일드 100g', 'kcal': '85', 'spec_origin': '떠먹는 요구르트 / 포장형태: 컵 / [영양정보] 1회 제공량 100g당 열량: 85kcal / 탄수화물: 4g / 당류: 3g / 단백질: 10.6g / 지방: 2.8g / 포화지방: 2g / 트랜스지방: 0g / 콜레스테롤: 20mg / 나트륨: 40mg', 'item_num': 24, 'per_serving': '100g', 'carb': '4', 'price': '11700', 'protein': '10.6', 'sugar': '3', 'fat': '2.8'}\n",
      "{'prod_name': '바스켓플랜 푸드앤플랜 리얼 그릭 요거트 500g', 'kcal': '146.7', 'spec_origin': '떠먹는 요구르트 / 포장형태: 컵 / [영양정보] 1회 제공량 100g당 열량: 146.7kcal / 탄수화물: 5.6g / 당류: 2.2g / 단백질: 10g / 지방: 9.4g / 포화지방: 5.6g / 트랜스지방: 0.3g / 콜레스트롤: 34.5mg / 나트륨: 19mg / 칼슘: 65.8mg', 'item_num': 14, 'per_serving': '100g', 'carb': '5.6', 'price': '12260', 'protein': '10', 'sugar': '2.2', 'fat': '9.4'}\n",
      "{'prod_name': '롯데웰푸드 그릭 요거트 스트로베리 아이스크림 85ml', 'kcal': '185', 'spec_origin': '아이스크림 / 85ml / 알레르기성분: 대두, 우유 / 표시기준분량: 85ml / 열량: 185kcal / 탄수화물: 19g / 당류: 18g / 단백질: 2g / 지방: 11g / 포화지방: 6g / 트랜스지방: 0.5g미만 / 콜레스테롤: 10mg / 나트륨: 50mg', 'item_num': 15, 'per_serving': '85ml', 'carb': '19', 'price': '4400', 'protein': '2', 'sugar': '18', 'fat': '11'}\n",
      "{'prod_name': '풀무원다논 그릭 플레인 요거트 95g', 'kcal': '95', 'spec_origin': '떠먹는 요구르트 / 포장형태: 컵 / [영양정보] 1회 제공량 95g당 열량: 95kcal / 탄수화물: 14g / 당류: 12g / 단백질: 5g / 지방: 2.3g / 포화지방: 1.4g / 트랜스지방: 0g / 콜레스테롤: 5mg / 나트륨: 55mg / 칼슘: 125mg', 'item_num': 11, 'per_serving': '95g', 'carb': '14', 'price': '5480', 'protein': '5', 'sugar': '12', 'fat': '2.3'}\n",
      "{'prod_name': '범산목장 유기농 목초 그릭 요구르트 350g', 'kcal': '437', 'spec_origin': '떠먹는 요구르트 / 포장형태: 병 / [영양정보] 1회 제공량 350g당 열량: 437kcal / 탄수화물: 28g / 당류: 27g / 단백질: 26g / 지방: 24g / 포화지방: 14g / 트랜스지방: 0g / 콜레스테롤: 5mg / 나트륨: 290mg', 'item_num': 9, 'per_serving': '350g', 'carb': '28', 'price': '5584', 'protein': '26', 'sugar': '27', 'fat': '24'}\n",
      "{'prod_name': '풀무원다논 그릭 달지 않은 플레인 95g', 'kcal': '80', 'spec_origin': '떠먹는 요구르트 / 포장형태: 컵 / [영양정보] 1회 제공량 95g당 열량: 80kcal / 탄수화물: 9g / 당류: 6g / 단백질: 6.4g / 지방: 2.1g / 포화지방: 1.3g / 트랜스지방: 0g / 콜레스테롤: 10mg / 나트륨: 55mg / 칼슘: 210mg', 'item_num': 3, 'per_serving': '95g', 'carb': '9', 'price': '19300', 'protein': '6.4', 'sugar': '6', 'fat': '2.1'}\n"
     ]
    }
   ],
   "source": [
    "# 입력한 데이터 전체 불러오기\n",
    "\n",
    "data = db.collection(\"product_info\").get()\n",
    "\n",
    "for doc in data:\n",
    "    print(doc.to_dict())"
   ]
  }
 ],
 "metadata": {
  "kernelspec": {
   "display_name": "eatwise",
   "language": "python",
   "name": "python3"
  },
  "language_info": {
   "codemirror_mode": {
    "name": "ipython",
    "version": 3
   },
   "file_extension": ".py",
   "mimetype": "text/x-python",
   "name": "python",
   "nbconvert_exporter": "python",
   "pygments_lexer": "ipython3",
   "version": "3.10.18"
  }
 },
 "nbformat": 4,
 "nbformat_minor": 2
}
